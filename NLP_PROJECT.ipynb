{
  "cells": [
    {
      "cell_type": "code",
      "execution_count": null,
      "metadata": {
        "id": "NDFl28lzUyk5"
      },
      "outputs": [],
      "source": [
        "import pandas as pd\n",
        "from sklearn.metrics.pairwise import cosine_similarity\n",
        "from transformers import BertTokenizer, BertModel\n",
        "import torch\n",
        "import numpy as np\n",
        "from sklearn.decomposition import PCA\n",
        "\n"
      ]
    },
    {
      "cell_type": "code",
      "execution_count": null,
      "metadata": {},
      "outputs": [],
      "source": [
        "df = pd.read_csv('All The Universities of Pakistan.xls')"
      ]
    },
    {
      "cell_type": "code",
      "execution_count": null,
      "metadata": {},
      "outputs": [],
      "source": [
        "#Initializing Bert tokenizer and model\n",
        "tokenizer = BertTokenizer.from_pretrained('bert-base-uncased')\n",
        "model = BertModel.from_pretrained('bert-base-uncased')\n",
        "\n"
      ]
    },
    {
      "cell_type": "code",
      "execution_count": null,
      "metadata": {},
      "outputs": [],
      "source": [
        "#Get bert embeddings\n",
        "def get_bert_embeddings(text):\n",
        "    inputs = tokenizer(text, return_tensors='pt', padding=True, truncation=True, max_length=512)\n",
        "    outputs = model(**inputs)\n",
        "    return outputs.last_hidden_state.mean(dim=1).detach().numpy()\n",
        "\n",
        "#Generate embeddings for the \"Popular For\" column\n",
        "df['bert_embedding'] = df['Popular For'].apply(get_bert_embeddings)\n",
        "\n",
        "#Apply PCA for dimensionality reduction dynamically\n",
        "def apply_pca(embeddings, n_components=50):\n",
        "    pca = PCA(n_components=min(n_components, embeddings.shape[0], embeddings.shape[1]))\n",
        "    transformed_embeddings = pca.fit_transform(embeddings)\n",
        "    return transformed_embeddings, pca\n",
        "\n",
        "#Normalize the embeddings and apply PCA\n",
        "bert_embeddings = np.vstack(df['bert_embedding'].values)\n",
        "normalized_embeddings = bert_embeddings / np.linalg.norm(bert_embeddings, axis=1, keepdims=True)\n",
        "pca_embeddings, pca = apply_pca(normalized_embeddings)\n",
        "\n",
        "#Update the DataFrame with PCA embeddings\n",
        "df['pca_embedding'] = list(pca_embeddings)\n",
        "\n"
      ]
    },
    {
      "cell_type": "code",
      "execution_count": null,
      "metadata": {},
      "outputs": [],
      "source": [
        "#Function to recommend universities\n",
        "def recommend_universities(user_interest, tuition_fee_budget, preferred_location, num_recommendations=5):\n",
        "    #Filter based on user criteria\n",
        "    filtered_df = df[\n",
        "        (df['tuition_fees'] <= tuition_fee_budget) &\n",
        "        (df['Location'].str.contains(preferred_location, case=False, na=False))\n",
        "    ]\n",
        "\n",
        "    if filtered_df.empty:\n",
        "        return pd.DataFrame(columns=['University', 'Popular For', 'World Rank', 'Location', 'tuition_fees', 'similarity_score', 'explanation'])\n",
        "\n",
        "    #Get user interest\n",
        "    user_embedding = get_bert_embeddings(user_interest)\n",
        "    #Normalize the user embedding\n",
        "    user_embedding = user_embedding / np.linalg.norm(user_embedding)  \n",
        "    #Use the same PCA transformation\n",
        "    user_embedding_pca = pca.transform(user_embedding)  \n",
        "\n",
        "    #Calculating the cosine similarities\n",
        "    filtered_pca_embeddings = np.vstack(filtered_df['pca_embedding'].values)\n",
        "    similarities = cosine_similarity(user_embedding_pca, filtered_pca_embeddings).flatten()\n",
        "\n",
        "    #Get the top N similar universities\n",
        "    similar_indices = similarities.argsort()[::-1][:num_recommendations]\n",
        "\n",
        "    #Retrieve recommendations\n",
        "    recommendations = filtered_df.iloc[similar_indices].copy()\n",
        "    recommendations['explanation'] = recommendations['Popular For'].apply(\n",
        "        lambda x: f'Matches your interest in {x}'\n",
        "    )\n",
        "\n",
        "    return recommendations[['University', 'Popular For', 'World Rank', 'Location', 'tuition_fees', 'explanation']]\n",
        "\n",
        "\n",
        "user_interest = input(\"Enter your field of interest: \")\n",
        "tuition_fee_budget = float(input(\"Enter your tuition fee budget: \"))\n",
        "preferred_location = input(\"Enter your preferred location: \")\n",
        "num_recommendations = int(input(\"Enter the number of recommendations you want: \"))\n",
        "\n",
        "\n",
        "recommendations = recommend_universities(user_interest, tuition_fee_budget, preferred_location, num_recommendations)\n",
        "\n",
        "recommendations\n"
      ]
    }
  ],
  "metadata": {
    "colab": {
      "provenance": []
    },
    "kernelspec": {
      "display_name": "Python 3",
      "name": "python3"
    },
    "language_info": {
      "name": "python"
    }
  },
  "nbformat": 4,
  "nbformat_minor": 0
}
