{
  "cells": [
    {
      "cell_type": "code",
      "execution_count": null,
      "metadata": {
        "id": "NDFl28lzUyk5"
      },
      "outputs": [],
      "source": [
        "#Importing libraries\n",
        "import pandas as pd\n",
        "from sklearn.feature_extraction.text import TfidfVectorizer\n",
        "from sklearn.metrics.pairwise import cosine_similarity\n",
        "from flask import Flask, request, jsonify\n",
        "from transformers import BertTokenizer, BertModel\n",
        "import torch"
      ]
    },
    {
      "cell_type": "code",
      "execution_count": null,
      "metadata": {},
      "outputs": [],
      "source": [
        "#Importing the dataset\n",
        "df = pd.read_csv('All The Universities of Pakistan.csv')"
      ]
    },
    {
      "cell_type": "code",
      "execution_count": null,
      "metadata": {},
      "outputs": [],
      "source": [
        "#Preprocessing the dataset column\n",
        "df['description'] = df['description'].fillna('').str.lower().str.replace('[^\\w\\s]', '')"
      ]
    },
    {
      "cell_type": "code",
      "execution_count": null,
      "metadata": {},
      "outputs": [],
      "source": [
        "#Initializing BERT tokenizer and model\n",
        "tokenizer = BertTokenizer.from_pretrained('bert-base-uncased')\n",
        "model = BertModel.from_pretrained('bert-base-uncased')"
      ]
    },
    {
      "cell_type": "code",
      "execution_count": null,
      "metadata": {},
      "outputs": [],
      "source": [
        "#Function for BERT embeddings\n",
        "def get_bert_embeddings(text):\n",
        "    inputs = tokenizer(text, return_tensors='pt', padding=True, truncation=True, max_length=512)\n",
        "    outputs = model(**inputs)\n",
        "    return outputs.last_hidden_state.mean(dim=1).detach().numpy()\n",
        "\n",
        "#Apply BERT embeddings to descriptions\n",
        "df['bert_embedding'] = df['description'].apply(get_bert_embeddings)"
      ]
    },
    {
      "cell_type": "code",
      "execution_count": null,
      "metadata": {},
      "outputs": [],
      "source": [
        "#Function that recommend universities\n",
        "def recommend_universities(user_interest, num_recommendations=5):\n",
        "    user_embedding = get_bert_embeddings(user_interest)\n",
        "    similarities = cosine_similarity(user_embedding, np.vstack(df['bert_embedding'].values)).flatten()\n",
        "    similar_indices = similarities.argsort()[::-1][:num_recommendations]\n",
        "    recommendations = df.iloc[similar_indices]\n",
        "    recommendations['similarity_score'] = similarities[similar_indices]\n",
        "    recommendations['explanation'] = recommendations['description'].apply(\n",
        "        lambda x: 'Matches your interest in ' + ', '.join(set(user_interest.lower().split()) & set(x.split())))\n",
        "    return recommendations[['university', 'description', 'world_rank', 'country', 'similarity_score', 'explanation']]"
      ]
    }
  ],
  "metadata": {
    "colab": {
      "provenance": []
    },
    "kernelspec": {
      "display_name": "Python 3",
      "name": "python3"
    },
    "language_info": {
      "name": "python"
    }
  },
  "nbformat": 4,
  "nbformat_minor": 0
}
